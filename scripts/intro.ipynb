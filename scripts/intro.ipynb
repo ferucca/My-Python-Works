{
 "cells": [
  {
   "cell_type": "markdown",
   "id": "a1d186cc",
   "metadata": {},
   "source": [
    " 1. Info General"
   ]
  },
  {
   "cell_type": "code",
   "execution_count": 26,
   "id": "16e8211c",
   "metadata": {},
   "outputs": [
    {
     "name": "stdout",
     "output_type": "stream",
     "text": [
      "¿Cuál es tu nombre completo? Alma Fernanda\n",
      "Sexo: Masculino o Femenino Femenino\n",
      "¿Qué edad tienes? 33\n",
      "Emai: almanda_4@hotmail.com\n",
      "¿Cuál es tu ocupación? Matematica\n",
      "['Alma Fernanda', 'Femenino', '33', 'almanda_4@hotmail.com', 'Matematica']\n"
     ]
    }
   ],
   "source": [
    "name = input('¿Cuál es tu nombre completo? ')\n",
    "sexo = input('Sexo: Masculino o Femenino ')\n",
    "age = input('¿Qué edad tienes? ')\n",
    "email = input ('Emai: ')\n",
    "ocupacion = input('¿Cuál es tu ocupación? ')\n",
    "lista = [name,sexo,age,email,ocupacion]\n",
    "print(lista)"
   ]
  },
  {
   "cell_type": "markdown",
   "id": "4bf3818e",
   "metadata": {},
   "source": [
    "2. Salario Mensual"
   ]
  },
  {
   "cell_type": "code",
   "execution_count": 27,
   "id": "4797a1f5",
   "metadata": {},
   "outputs": [
    {
     "name": "stdout",
     "output_type": "stream",
     "text": [
      "¿De cuánto es tu sueldo mensual? 30000\n",
      "Tu disposición de efectivo semanal, semestral y anual es la siguiente:\n",
      "Semanal: 7500.0\n",
      "Semestral: 180000\n",
      "Anual: 360000\n"
     ]
    }
   ],
   "source": [
    "salario = int(input('¿De cuánto es tu sueldo mensual? '))\n",
    "\n",
    "disp_semanal = salario/4\n",
    "disp_semestral = salario*6\n",
    "disp_anual = salario*12\n",
    "\n",
    "print('Tu disposición de efectivo semanal, semestral y anual es la siguiente:')\n",
    "print(f'Semanal: {disp_semanal}')\n",
    "print(f'Semestral: {disp_semestral}')\n",
    "print(f'Anual: {disp_anual}')\n"
   ]
  },
  {
   "cell_type": "markdown",
   "id": "5eef7f50",
   "metadata": {},
   "source": [
    " 3. Costo final de prestamo"
   ]
  },
  {
   "cell_type": "code",
   "execution_count": 29,
   "id": "274ea153",
   "metadata": {},
   "outputs": [
    {
     "name": "stdout",
     "output_type": "stream",
     "text": [
      "¿Cuál es el monto del prestamo que deseas cotizar? 10000\n",
      "¿A pagar en cuántos años? 2\n",
      "El monto final a pagar por el prestamo de 10000 pesos, a una tasa de interés del 13% es de: 12600.0 pesos, a 24 mensualidades de 525.0 pesos\n"
     ]
    }
   ],
   "source": [
    "# monto del prestamo\n",
    "monto_prestamo=int(input('¿Cuál es el monto del prestamo que deseas cotizar? '))\n",
    "tasa_interes = 0.13\n",
    "periodo = int(input('¿A pagar en cuántos años? '))\n",
    "\n",
    "pago_total = monto_prestamo + (monto_prestamo*tasa_interes*periodo)\n",
    "no_mensualidades = periodo*12\n",
    "pago_mensual= pago_total/no_mensualidades\n",
    "\n",
    "print(f'El monto final a pagar por el prestamo de {monto_prestamo} pesos, a una tasa de interés del 13% es de: {pago_total} pesos, a {no_mensualidades} mensualidades de {pago_mensual} pesos')"
   ]
  },
  {
   "cell_type": "markdown",
   "id": "cf8177e8",
   "metadata": {},
   "source": [
    "4. Cálculo de áreas"
   ]
  },
  {
   "cell_type": "code",
   "execution_count": 46,
   "id": "6b023b73",
   "metadata": {},
   "outputs": [
    {
     "name": "stdout",
     "output_type": "stream",
     "text": [
      "Selecciona el número de la figura a la que quieres calcular el área: \n",
      "1: Cuadrado; 2: Triángulo; 3: Circulo; 4: Rectángulo25\n",
      "Opción Invalida\n"
     ]
    }
   ],
   "source": [
    "print('Selecciona el número de la figura a la que quieres calcular el área: ')\n",
    "figura = int(input('1: Cuadrado; 2: Triángulo; 3: Circulo; 4: Rectángulo'))\n",
    "\n",
    "if figura == 1:\n",
    "    lado_cuadrado = float(input('¿Cuánto miden sus lados? '))\n",
    "    area_cuadrado = lado_cuadrado*lado_cuadrado\n",
    "    print(f'El área del cuadrado de lados {lado_cuadrado}, es de: {area_cuadrado} unidades.')\n",
    "\n",
    "elif figura == 2:\n",
    "    base_triangulo = float(input('¿Cuánto mide la base del triángulo? '))\n",
    "    altura_triangulo = float(input('¿Cuánto mide la altura del triángulo? '))\n",
    "    area_triangulo = (base_triangulo*altura_triangulo)/2\n",
    "    print(f'El área del triángulo de base {base_triangulo} y altura {altura_triangulo}, es de: {area_triangulo} unidades.')\n",
    "    \n",
    "elif figura == 3:\n",
    "    radio = float(input('¿Cuánto mide el radio del círculo? '))\n",
    "    area_circulo = 3.1416*(radio**2)\n",
    "    print(f'El área del círculo de radio de {radio}, es de: {area_circulo} unidades.')\n",
    "    \n",
    "elif figura == 4:\n",
    "    base_rectangulo = float(input('¿Cuánto mide la base del rectangulo? '))\n",
    "    altura_rectangulo = float(input('¿Cuánto mide la altura del rectangulo? '))\n",
    "    area_rectangulo = base_rectangulo*altura_rectangulo\n",
    "    print(f'El área del rectangulo de base {base_rectangulo} y altura {altura_rectangulo}, es de: {area_rectangulo} unidades.')\n",
    "    \n",
    "else:\n",
    "    print('Opción Invalida')\n"
   ]
  },
  {
   "cell_type": "code",
   "execution_count": null,
   "id": "d8bb61fc",
   "metadata": {},
   "outputs": [],
   "source": []
  },
  {
   "cell_type": "code",
   "execution_count": null,
   "id": "fffca35d",
   "metadata": {},
   "outputs": [],
   "source": []
  }
 ],
 "metadata": {
  "kernelspec": {
   "display_name": "Python 3 (ipykernel)",
   "language": "python",
   "name": "python3"
  },
  "language_info": {
   "codemirror_mode": {
    "name": "ipython",
    "version": 3
   },
   "file_extension": ".py",
   "mimetype": "text/x-python",
   "name": "python",
   "nbconvert_exporter": "python",
   "pygments_lexer": "ipython3",
   "version": "3.11.2"
  }
 },
 "nbformat": 4,
 "nbformat_minor": 5
}
